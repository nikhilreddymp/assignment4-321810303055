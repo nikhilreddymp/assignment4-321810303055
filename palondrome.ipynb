{
 "cells": [
  {
   "cell_type": "code",
   "execution_count": null,
   "metadata": {},
   "outputs": [],
   "source": [
    "num = input('Enter any number : ')\n",
    "try:\n",
    "   val = int(num)\n",
    "   if num == str(num)[::-1]:\n",
    "      print('The given number is PALINDROME')\n",
    "   else:\n",
    "      print('The given number is NOT a palindrome')\n",
    "except ValueError:\n",
    "   print(\"That's not a valid number, Try Again !\")\n",
    "finally:\n",
    "\tprint(\"The program is complited\")"
   ]
  }
 ],
 "metadata": {
  "kernelspec": {
   "display_name": "Python 3",
   "language": "python",
   "name": "python3"
  },
  "language_info": {
   "codemirror_mode": {
    "name": "ipython",
    "version": 3
   },
   "file_extension": ".py",
   "mimetype": "text/x-python",
   "name": "python",
   "nbconvert_exporter": "python",
   "pygments_lexer": "ipython3",
   "version": "3.7.6"
  }
 },
 "nbformat": 4,
 "nbformat_minor": 4
}
