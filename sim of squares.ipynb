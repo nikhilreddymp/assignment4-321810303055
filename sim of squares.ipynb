{
 "cells": [
  {
   "cell_type": "code",
   "execution_count": null,
   "metadata": {},
   "outputs": [],
   "source": [
    "def squaresum(n) : \n",
    "\tsm = 0\n",
    "\tfor i in range(1, n+1) :\n",
    "\t\tsm = sm + (i * i) \n",
    "\treturn sm\n",
    "n=4\n",
    "print(\"sum of square of first n natural number is:\")\n",
    "print(squaresum(n)) "
   ]
  }
 ],
 "metadata": {
  "kernelspec": {
   "display_name": "Python 3",
   "language": "python",
   "name": "python3"
  },
  "language_info": {
   "codemirror_mode": {
    "name": "ipython",
    "version": 3
   },
   "file_extension": ".py",
   "mimetype": "text/x-python",
   "name": "python",
   "nbconvert_exporter": "python",
   "pygments_lexer": "ipython3",
   "version": "3.7.6"
  }
 },
 "nbformat": 4,
 "nbformat_minor": 4
}
