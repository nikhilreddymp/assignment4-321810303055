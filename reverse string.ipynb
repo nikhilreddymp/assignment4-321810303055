{
 "cells": [
  {
   "cell_type": "code",
   "execution_count": null,
   "metadata": {},
   "outputs": [],
   "source": [
    "def reverse(s): \n",
    "\tstr = \"\" \n",
    "\tfor i in s: \n",
    "\t\tstr = i + str\n",
    "\treturn str\n",
    "s =\"python assignment4\"\n",
    "print (\"The original string  is : \",end=\"\") \n",
    "print (s) \n",
    "print (\"The reversed string(using loops) is : \",end=\"\") \n",
    "print (reverse(s))"
   ]
  }
 ],
 "metadata": {
  "kernelspec": {
   "display_name": "Python 3",
   "language": "python",
   "name": "python3"
  },
  "language_info": {
   "codemirror_mode": {
    "name": "ipython",
    "version": 3
   },
   "file_extension": ".py",
   "mimetype": "text/x-python",
   "name": "python",
   "nbconvert_exporter": "python",
   "pygments_lexer": "ipython3",
   "version": "3.7.6"
  }
 },
 "nbformat": 4,
 "nbformat_minor": 4
}
